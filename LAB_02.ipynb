{
  "nbformat": 4,
  "nbformat_minor": 0,
  "metadata": {
    "colab": {
      "provenance": [],
      "authorship_tag": "ABX9TyP7N7WxWY3bstZUkitKsALj",
      "include_colab_link": true
    },
    "kernelspec": {
      "name": "python3",
      "display_name": "Python 3"
    },
    "language_info": {
      "name": "python"
    }
  },
  "cells": [
    {
      "cell_type": "markdown",
      "metadata": {
        "id": "view-in-github",
        "colab_type": "text"
      },
      "source": [
        "<a href=\"https://colab.research.google.com/github/M-O-J-U/AI-LAB-All-Tasks-and-Activities/blob/AI_LAB/LAB_02.ipynb\" target=\"_parent\"><img src=\"https://colab.research.google.com/assets/colab-badge.svg\" alt=\"Open In Colab\"/></a>"
      ]
    },
    {
      "cell_type": "code",
      "execution_count": 1,
      "metadata": {
        "id": "ZBJxImH3-_zj",
        "outputId": "5ad4ee1e-e024-4ac7-9679-1084172f1b99",
        "colab": {
          "base_uri": "https://localhost:8080/"
        }
      },
      "outputs": [
        {
          "output_type": "stream",
          "name": "stdout",
          "text": [
            "1\n"
          ]
        }
      ],
      "source": [
        "import random\n",
        "x=[1,2,3]\n",
        "y=random.choice(x)\n",
        "print(y)"
      ]
    },
    {
      "cell_type": "code",
      "source": [
        "import math\n",
        "math.sqrt(8)\n",
        "print(math.pi)\n",
        "print(\"seyad \"*4)\n",
        "a=\"seyad\"\n",
        "y=a.capitalize()\n",
        "print(y)\n",
        "a.find('b')"
      ],
      "metadata": {
        "id": "ES1n2N9QInMA",
        "outputId": "b4c43e92-4b94-4802-8150-f680ab3ac384",
        "colab": {
          "base_uri": "https://localhost:8080/"
        }
      },
      "execution_count": 2,
      "outputs": [
        {
          "output_type": "stream",
          "name": "stdout",
          "text": [
            "3.141592653589793\n",
            "seyad seyad seyad seyad \n",
            "Seyad\n"
          ]
        },
        {
          "output_type": "execute_result",
          "data": {
            "text/plain": [
              "-1"
            ]
          },
          "metadata": {},
          "execution_count": 2
        }
      ]
    },
    {
      "cell_type": "code",
      "source": [
        "mlist1=[]\n",
        "print(\"enter a number for list 1\")\n",
        "for i in range(32):\n",
        "  a=input(\"number\")\n",
        "  n=a\n",
        "  mlist1.append(n)\n",
        "\n",
        "\n",
        "mlist2=[]\n",
        "print(\"enter a number for list 1\")\n",
        "for i in range(3):\n",
        "  a=input(\"number\")\n",
        "  n=a\n",
        "  mlist2.append(n)\n",
        "\n",
        "list3=mlist1+mlist2\n",
        "print(list3)"
      ],
      "metadata": {
        "id": "yToG9RN9JD3O",
        "outputId": "3169388c-1fee-4991-f2ff-d580574c81dc",
        "colab": {
          "base_uri": "https://localhost:8080/"
        }
      },
      "execution_count": 4,
      "outputs": [
        {
          "output_type": "stream",
          "name": "stdout",
          "text": [
            "enter a number for list 1\n",
            "number123\n",
            "number321\n",
            "number31\n",
            "enter a number for list 1\n",
            "number789\n",
            "number987\n",
            "number87\n",
            "['123', '321', '31', '789', '987', '87']\n"
          ]
        }
      ]
    },
    {
      "cell_type": "code",
      "source": [
        "def inpalodrom(word):\n",
        "  temp=word[::-1]\n",
        "  if temp.captalize=word.captalize:\n",
        "    return true\n",
        "  else:\n",
        "    return false  \n",
        "print(inpalodrom(\"dead\"))"
      ],
      "metadata": {
        "id": "i0KsFEtwJsq5"
      },
      "execution_count": null,
      "outputs": []
    },
    {
      "cell_type": "code",
      "source": [
        "a=[1,2,3,4]\n",
        "b=[4,5,6,7]\n",
        "c=[]\n",
        "\n",
        "for indrow in range(3):\n",
        "  c.append([])\n",
        "  for indrow1 in range(3):\n",
        "    c(indrow).append(0) \n",
        "    for indrow11 in range(3):\n",
        "      c[indrow ][indrow1]+=b[indrow ][indrow11]*a[indrow1][indrow11]"
      ],
      "metadata": {
        "id": "d3JFbPdXJwrU"
      },
      "execution_count": null,
      "outputs": []
    },
    {
      "cell_type": "code",
      "source": [
        "\n",
        "def symdiff(a,b):\n",
        "  e=set()\n",
        "  for i in a:\n",
        "    if i not in b:\n",
        "      e.add(i)\n",
        "  for i in a:\n",
        "    if i not in a:\n",
        "      e.add(i)\n",
        "\n",
        "      return e\n",
        "set_A = {1, 2, 3, 4, 5}\n",
        "set_B = {6, 7, 3, 9, 4}\n",
        "\n",
        "print(symdiff(set_A,set_B))\n",
        "\n",
        "print(set_A.symmetric_difference(set_B))      \n",
        "print(set_B.symmetric_difference(set_A))\n",
        "print(set_A^set_B) \n",
        "print(set_B^set_A)\n",
        "\n"
      ],
      "metadata": {
        "id": "l38jSv5zJzrx"
      },
      "execution_count": null,
      "outputs": []
    },
    {
      "cell_type": "code",
      "source": [
        "sample={(\"sohain\",\"ali\"):\"01233475\",\n",
        "(\"sohaskalkin\",\"ai\"):\"01233475\",\n",
        "(\"sSAohain\",\"SSSali\"):\"01233475\",\n",
        "}\n",
        "firstname=input(\"input name\")\n",
        "lastname=input(\"input name\")\n",
        "searchtuple=(firstname,lastname)\n",
        "if searchtuple in sample:\n",
        "  print(sample(searchtuple))\n",
        "else:\n",
        "  print (\"not found\")  "
      ],
      "metadata": {
        "id": "2YM7g1sFJ4eZ"
      },
      "execution_count": null,
      "outputs": []
    },
    {
      "cell_type": "code",
      "source": [
        "\n",
        "lst1 = []\n",
        "lst2 = []\n",
        "lst3= []\n",
        "\n",
        " \n",
        "n = int(input(\"Enter size of list  : \"))\n",
        " \n",
        "for i in range(0, n):\n",
        "    element = int(input(\"Enter a number in list 1 :-\"))\n",
        " \n",
        "    lst1.append(element) \n",
        "     \n",
        "print(\"List 1 is :-\"+str(lst1))\n",
        "\n",
        " \n",
        "for i in range(0, n):\n",
        "    element2 = int(input(\"Enter a number in list 2 :-\"))\n",
        " \n",
        "    lst2.append(element2) \n",
        "     \n",
        "print(\"List 2 elements are :-\"+str(lst2))\n",
        "\n",
        "lst3=lst1+lst2\n",
        "print(\"list 3\"+str(lst3))\n",
        "a=max(lst3)\n",
        "b=min(lst3)\n",
        "print(\"maximum element in list\"+str(a))\n",
        "print(\"minimum element in list\"+str(b))\n",
        "\n"
      ],
      "metadata": {
        "id": "vcSNSFCNJ62h"
      },
      "execution_count": null,
      "outputs": []
    },
    {
      "cell_type": "code",
      "source": [
        "contact_items =[{'name': ['saif'],\n",
        "                 'age': ['25'],\n",
        "                 \"city\": [\"New york\"],\n",
        "                 'salary': [1000]}]\n",
        "\n",
        "\n",
        "\n",
        "\n",
        "\n",
        "[{'name': ['saif'],\n",
        "                 'salary': [1000]}]\n",
        "\n",
        "list1 = ''\n",
        "list2 = ''\n",
        "list3 = []\n",
        "test_dict = {}\n",
        "\n",
        "for item in contact_items:\n",
        "    list1 = item['name']\n",
        "    list2 = item['salary']\n",
        "\n",
        "test_dict = {}\n",
        "\n",
        "for k in list1:\n",
        "    for l in list2:\n",
        "        test_dict['name'] = k\n",
        "        test_dict['salary'] = l\n",
        "        list3.append(test_dict)\n",
        "\n",
        "print(list3)"
      ],
      "metadata": {
        "id": "D7AKbLuuJ-E2"
      },
      "execution_count": null,
      "outputs": []
    },
    {
      "cell_type": "code",
      "source": [
        "from sympy.functions.special.spherical_harmonics import Ynm\n",
        "from sympy.functions import yn\n",
        "from sympy.algebras.quaternion import cos\n",
        "from sympy import sin\n",
        "import math\n",
        "\n",
        "def pii(a):\n",
        "  x=0.001\n",
        "  s=sin(x)\n",
        "  y=cos(x)\n",
        "  s=y\n",
        "  z=y\n",
        "\n",
        "print(pii(z))\n"
      ],
      "metadata": {
        "id": "nyz_RKXeKCCl"
      },
      "execution_count": null,
      "outputs": []
    }
  ]
}