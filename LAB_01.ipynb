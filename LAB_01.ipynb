{
  "nbformat": 4,
  "nbformat_minor": 0,
  "metadata": {
    "colab": {
      "provenance": [],
      "authorship_tag": "ABX9TyM1nC/R1z14skJ/KnBRfCLp",
      "include_colab_link": true
    },
    "kernelspec": {
      "name": "python3",
      "display_name": "Python 3"
    },
    "language_info": {
      "name": "python"
    }
  },
  "cells": [
    {
      "cell_type": "markdown",
      "metadata": {
        "id": "view-in-github",
        "colab_type": "text"
      },
      "source": [
        "<a href=\"https://colab.research.google.com/github/M-O-J-U/AI-LAB-All-Tasks-and-Activities/blob/AI_LAB/LAB_01.ipynb\" target=\"_parent\"><img src=\"https://colab.research.google.com/assets/colab-badge.svg\" alt=\"Open In Colab\"/></a>"
      ]
    },
    {
      "cell_type": "markdown",
      "source": [
        "Lab Activity 1"
      ],
      "metadata": {
        "id": "U1ExKwIXYlim"
      }
    },
    {
      "cell_type": "code",
      "execution_count": null,
      "metadata": {
        "colab": {
          "base_uri": "https://localhost:8080/"
        },
        "id": "ijAprEtUUFhR",
        "outputId": "7e7f38e9-465d-4232-89ff-a463d6256e12"
      },
      "outputs": [
        {
          "output_type": "stream",
          "name": "stdout",
          "text": [
            "Enter any number : 5\n",
            "5 is odd\n"
          ]
        }
      ],
      "source": [
        "#taking an input from the user and checking whether its even or odd\n",
        "value=input(\"Enter any number : \")\n",
        "\n",
        "if int (value)%2==0:\n",
        "  print(value ,\"is Even\")\n",
        "else:\n",
        "  print(value ,\"is odd\")"
      ]
    },
    {
      "cell_type": "markdown",
      "source": [
        "Lab Activity 2"
      ],
      "metadata": {
        "id": "sOkmELXVbkrf"
      }
    },
    {
      "cell_type": "code",
      "source": [
        "#keep taking input from user and summing it untill user enters 0\n",
        "sum=0\n",
        "\n",
        "value=input(\"Enter any number : \")\n",
        "n=int(value)\n",
        "\n",
        "while n!=0:\n",
        "  sum=sum+n\n",
        "  value=input(\"Enter any number : \")\n",
        "  n=int(value)\n",
        "  \n",
        "print(\"Sum of given values is : \" , sum)\n"
      ],
      "metadata": {
        "colab": {
          "base_uri": "https://localhost:8080/"
        },
        "id": "CQ2VkMqbbn0K",
        "outputId": "bf4418f7-8b38-4e01-f019-ed5fcd022276"
      },
      "execution_count": null,
      "outputs": [
        {
          "output_type": "stream",
          "name": "stdout",
          "text": [
            "Enter any number : 5\n",
            "Enter any number : 5\n",
            "Enter any number : 5\n",
            "Enter any number : 5\n",
            "Enter any number : 0\n",
            "Sum of given values is :  20\n"
          ]
        }
      ]
    },
    {
      "cell_type": "markdown",
      "source": [
        "Lab Activity 3"
      ],
      "metadata": {
        "id": "Yp8EVy5JeQeh"
      }
    },
    {
      "cell_type": "code",
      "source": [
        "#Taking input and checking whether its prime number or not\n",
        "isPrime=True\n",
        "i=2\n",
        "value=int(input(\"Enter any value to find whether its prime or not : \"))\n",
        "\n",
        "while i<value:\n",
        "  remainder=value%i\n",
        "  if remainder==0:\n",
        "    isPrime=False\n",
        "    break\n",
        "  else:\n",
        "      i=i+1\n",
        "\n",
        "if isPrime:\n",
        "  print(\"Number is Prime\")\n",
        "else:\n",
        "  print(\"Number is not prime\")"
      ],
      "metadata": {
        "colab": {
          "base_uri": "https://localhost:8080/"
        },
        "id": "XtgRGaaLeye-",
        "outputId": "e6908b1e-89f3-4db2-fd0b-178eaca717eb"
      },
      "execution_count": null,
      "outputs": [
        {
          "output_type": "stream",
          "name": "stdout",
          "text": [
            "Enter any value to find whether its prime or not : 12\n",
            "Number is not prime\n"
          ]
        }
      ]
    },
    {
      "cell_type": "markdown",
      "source": [
        "Lab Activity 4"
      ],
      "metadata": {
        "id": "NEWzw34ehn0K"
      }
    },
    {
      "cell_type": "code",
      "source": [
        "#Accept 5 values from user and taking showing its sum\n",
        "sum=0\n",
        "i=0\n",
        "\n",
        "while i<=4:\n",
        "  s=input(\"Enter a number : \")\n",
        "  n=int(s)\n",
        "  sum=sum+n\n",
        "  i=i+1\n",
        "\n",
        "print(\"Sum is \",sum)"
      ],
      "metadata": {
        "colab": {
          "base_uri": "https://localhost:8080/"
        },
        "id": "y7nNSaluhqSN",
        "outputId": "2af295a1-72a1-4817-cc4e-9cfdf30ec217"
      },
      "execution_count": null,
      "outputs": [
        {
          "output_type": "stream",
          "name": "stdout",
          "text": [
            "Enter a number : 7\n",
            "Enter a number : 7\n",
            "Enter a number : 7\n",
            "Enter a number : 7\n",
            "Enter a number : 7\n",
            "Sum is  35\n"
          ]
        }
      ]
    },
    {
      "cell_type": "markdown",
      "source": [
        "Lab Activity 5"
      ],
      "metadata": {
        "id": "UMoHkXWQjXHQ"
      }
    },
    {
      "cell_type": "code",
      "source": [
        "#Calculating sum of all the values between 0-10\n",
        "sum=0\n",
        "i=1\n",
        "while i<=10:\n",
        "  sum=sum+i\n",
        "  i=i+1\n",
        "\n",
        "print(\"Sum is : \",sum)"
      ],
      "metadata": {
        "id": "ht4myu0Cio-J",
        "colab": {
          "base_uri": "https://localhost:8080/"
        },
        "outputId": "07073394-1567-40fa-a0a9-69469ede1784"
      },
      "execution_count": 1,
      "outputs": [
        {
          "output_type": "stream",
          "name": "stdout",
          "text": [
            "Sum is :  55\n"
          ]
        }
      ]
    },
    {
      "cell_type": "markdown",
      "source": [
        "Lab Activity 6"
      ],
      "metadata": {
        "id": "ugC-ZChuJQcO"
      }
    },
    {
      "cell_type": "code",
      "source": [
        "#Take any sort of input from user\n",
        "name=input(\"Enter your name : \")\n",
        "age=input(\"Enter your age : \")\n",
        "num=int(input(\"Enter your contact number : \"))\n",
        "\n",
        "print(\"Name : \",name)\n",
        "print(\"Age : \",age)\n",
        "print(\"Contact : \",num)"
      ],
      "metadata": {
        "colab": {
          "base_uri": "https://localhost:8080/"
        },
        "id": "iNh8KqdTJS7k",
        "outputId": "0b8e8df0-53b0-40de-95a2-508f647a1fc9"
      },
      "execution_count": 2,
      "outputs": [
        {
          "output_type": "stream",
          "name": "stdout",
          "text": [
            "Enter your name : Moiz\n",
            "Enter your age : 19\n",
            "Enter your contact number : 03461410179\n",
            "Name :  Moiz\n",
            "Age :  19\n",
            "Contact :  3461410179\n"
          ]
        }
      ]
    },
    {
      "cell_type": "markdown",
      "source": [
        "---------------------------------------------------"
      ],
      "metadata": {
        "id": "AZtdu76nJ_64"
      }
    },
    {
      "cell_type": "markdown",
      "source": [
        "Lab Task 1"
      ],
      "metadata": {
        "id": "vc0qM0_UKB7D"
      }
    },
    {
      "cell_type": "code",
      "source": [
        "# program that promts user to input some integers and output its reversed version\n",
        "\n",
        "num=input(\"Enter some integers : \")\n",
        "\n",
        "print(str(num)[::-1])"
      ],
      "metadata": {
        "colab": {
          "base_uri": "https://localhost:8080/"
        },
        "id": "svnzxYffKDwi",
        "outputId": "081e2a31-8b4c-47de-85ff-6e95505e1993"
      },
      "execution_count": 4,
      "outputs": [
        {
          "output_type": "stream",
          "name": "stdout",
          "text": [
            "Enter some integers : 123\n",
            "321\n"
          ]
        }
      ]
    },
    {
      "cell_type": "markdown",
      "source": [
        "Lab Task 2"
      ],
      "metadata": {
        "id": "2pU6cfWMLZJh"
      }
    },
    {
      "cell_type": "code",
      "source": [
        "# program that reads a set of integers and prints sum of even and odd numbers\n",
        "test_list=input(\"Enter any series of digits : \")\n",
        " \n",
        "odd_sum = 0\n",
        "even_sum = 0\n",
        " \n",
        "for sub in test_list:\n",
        "    for ele in str(sub):\n",
        "        if int(ele) % 2 == 0:\n",
        "            even_sum += int(ele)\n",
        "        else:\n",
        "            odd_sum += int(ele)\n",
        " \n",
        "print(\"Odd digit sum : \" + str(odd_sum))\n",
        "print(\"Even digit sum : \" + str(even_sum))"
      ],
      "metadata": {
        "colab": {
          "base_uri": "https://localhost:8080/"
        },
        "id": "azZkMbB1Le54",
        "outputId": "80972786-9871-4e07-9058-ce3786116cb2"
      },
      "execution_count": 8,
      "outputs": [
        {
          "output_type": "stream",
          "name": "stdout",
          "text": [
            "Enter any series of digits : 1234\n",
            "Odd digit sum : 4\n",
            "Even digit sum : 6\n"
          ]
        }
      ]
    },
    {
      "cell_type": "markdown",
      "source": [
        "Lab Task 3"
      ],
      "metadata": {
        "id": "--uCgjDFNM-2"
      }
    },
    {
      "cell_type": "code",
      "source": [
        "# Program for fibonacci series\n",
        "num_terms = int(input(\"How many terms do you want ? \"))\n",
        "\n",
        "n1, n2 = 0, 1\n",
        "count = 0\n",
        "\n",
        "if num_terms <= 0:\n",
        "   print(\"Please enter a positive integer\")\n",
        "elif num_terms == 1:\n",
        "   print(\"Fibonacci sequence upto\",num_terms,\":\")\n",
        "   print(n1)\n",
        "else:\n",
        "   print(\"Fibonacci sequence:\")\n",
        "   while count < num_terms:\n",
        "       print(n1)\n",
        "       nth = n1 + n2\n",
        "       n1 = n2\n",
        "       n2 = nth\n",
        "       count += 1"
      ],
      "metadata": {
        "id": "TlgZJY8hNQJL",
        "outputId": "02dc7967-cbe4-40e7-9ceb-7bae37eb7205",
        "colab": {
          "base_uri": "https://localhost:8080/"
        }
      },
      "execution_count": 10,
      "outputs": [
        {
          "output_type": "stream",
          "name": "stdout",
          "text": [
            "How many terms do you want ? 7\n",
            "Fibonacci sequence:\n",
            "0\n",
            "1\n",
            "1\n",
            "2\n",
            "3\n",
            "5\n",
            "8\n"
          ]
        }
      ]
    },
    {
      "cell_type": "markdown",
      "source": [
        "Lab Task 4"
      ],
      "metadata": {
        "id": "8rz4nYYZOCkj"
      }
    },
    {
      "cell_type": "code",
      "source": [
        "# Program for accepting user's marks and grading him\n",
        "marks=int(input(\"Enter your marks : \"))\n",
        "\n",
        "if(marks>=90):\n",
        "    print(\"Grade: A\")\n",
        "elif(marks>=80&marks<90):\n",
        "    print(\"Grade: B\")\n",
        "elif(marks>=70&marks<80):\n",
        "    print(\"Grade: C\")\n",
        "elif(marks>=60&marks<70):\n",
        "    print(\"Grade: D\")\n",
        "elif(marks>=50&marks<60):\n",
        "    print(\"Grade: D\")\n",
        "else:\n",
        "    print(\"Grade: F\")"
      ],
      "metadata": {
        "id": "qw2yEeaQOEYF",
        "outputId": "8f78dfe4-cc90-493f-a435-3456cffa76f9",
        "colab": {
          "base_uri": "https://localhost:8080/"
        }
      },
      "execution_count": 11,
      "outputs": [
        {
          "output_type": "stream",
          "name": "stdout",
          "text": [
            "Enter your marks : 87\n",
            "Grade: B\n"
          ]
        }
      ]
    },
    {
      "cell_type": "markdown",
      "source": [
        "Lab Task 5"
      ],
      "metadata": {
        "id": "9Y5taczEO_RN"
      }
    },
    {
      "cell_type": "code",
      "source": [
        "# Program to find factorial of a number\n",
        "num = int(input(\"Enter any number: \"))    \n",
        "factorial = 1 \n",
        "\n",
        "if num < 0:    \n",
        "   print(\" Factorial does not exist for negative numbers \")    \n",
        "elif num == 0:    \n",
        "   print(\"The factorial of 0 is 1 \")    \n",
        "else:    \n",
        "   for i in range(1,num + 1):    \n",
        "       factorial = factorial*i    \n",
        "   print(\"The factorial of\",num,\"is :\",factorial)    "
      ],
      "metadata": {
        "id": "tfMX52L2PCyy",
        "outputId": "3b1bbadb-d148-4b94-a3f7-3b4a59c149e9",
        "colab": {
          "base_uri": "https://localhost:8080/"
        }
      },
      "execution_count": 14,
      "outputs": [
        {
          "output_type": "stream",
          "name": "stdout",
          "text": [
            "Enter any number: 4\n",
            "The factorial of 4 is : 24\n"
          ]
        }
      ]
    }
  ]
}