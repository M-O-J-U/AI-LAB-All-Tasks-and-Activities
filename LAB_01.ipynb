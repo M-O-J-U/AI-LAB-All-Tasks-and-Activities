{
  "nbformat": 4,
  "nbformat_minor": 0,
  "metadata": {
    "colab": {
      "provenance": [],
      "authorship_tag": "ABX9TyNZ8c0pW7LHhaZuBJ4UoXIe",
      "include_colab_link": true
    },
    "kernelspec": {
      "name": "python3",
      "display_name": "Python 3"
    },
    "language_info": {
      "name": "python"
    }
  },
  "cells": [
    {
      "cell_type": "markdown",
      "metadata": {
        "id": "view-in-github",
        "colab_type": "text"
      },
      "source": [
        "<a href=\"https://colab.research.google.com/github/M-O-J-U/AI-LAB-All-Tasks-and-Activities/blob/AI_LAB/LAB_01.ipynb\" target=\"_parent\"><img src=\"https://colab.research.google.com/assets/colab-badge.svg\" alt=\"Open In Colab\"/></a>"
      ]
    },
    {
      "cell_type": "markdown",
      "source": [
        "Lab Activity 1"
      ],
      "metadata": {
        "id": "U1ExKwIXYlim"
      }
    },
    {
      "cell_type": "code",
      "execution_count": 7,
      "metadata": {
        "colab": {
          "base_uri": "https://localhost:8080/"
        },
        "id": "ijAprEtUUFhR",
        "outputId": "7e7f38e9-465d-4232-89ff-a463d6256e12"
      },
      "outputs": [
        {
          "output_type": "stream",
          "name": "stdout",
          "text": [
            "Enter any number : 5\n",
            "5 is odd\n"
          ]
        }
      ],
      "source": [
        "#taking an input from the user and checking whether its even or odd\n",
        "value=input(\"Enter any number : \")\n",
        "\n",
        "if int (value)%2==0:\n",
        "  print(value ,\"is Even\")\n",
        "else:\n",
        "  print(value ,\"is odd\")"
      ]
    },
    {
      "cell_type": "markdown",
      "source": [
        "Lab Activity 2"
      ],
      "metadata": {
        "id": "sOkmELXVbkrf"
      }
    },
    {
      "cell_type": "code",
      "source": [
        "#keep taking input from user and summing it untill user enters 0\n",
        "sum=0\n",
        "\n",
        "value=input(\"Enter any number : \")\n",
        "n=int(value)\n",
        "\n",
        "while n!=0:\n",
        "  sum=sum+n\n",
        "  value=input(\"Enter any number : \")\n",
        "  n=int(value)\n",
        "  \n",
        "print(\"Sum of given values is : \" , sum)\n"
      ],
      "metadata": {
        "colab": {
          "base_uri": "https://localhost:8080/"
        },
        "id": "CQ2VkMqbbn0K",
        "outputId": "bf4418f7-8b38-4e01-f019-ed5fcd022276"
      },
      "execution_count": 13,
      "outputs": [
        {
          "output_type": "stream",
          "name": "stdout",
          "text": [
            "Enter any number : 5\n",
            "Enter any number : 5\n",
            "Enter any number : 5\n",
            "Enter any number : 5\n",
            "Enter any number : 0\n",
            "Sum of given values is :  20\n"
          ]
        }
      ]
    },
    {
      "cell_type": "markdown",
      "source": [
        "Lab Activity 3"
      ],
      "metadata": {
        "id": "Yp8EVy5JeQeh"
      }
    },
    {
      "cell_type": "code",
      "source": [
        "#Taking input and checking whether its prime number or not\n",
        "isPrime=True\n",
        "i=2\n",
        "value=int(input(\"Enter any value to find whether its prime or not : \"))\n",
        "\n",
        "while i<value:\n",
        "  remainder=value%i\n",
        "  if remainder==0:\n",
        "    isPrime=False\n",
        "    break\n",
        "  else:\n",
        "      i=i+1\n",
        "\n",
        "if isPrime:\n",
        "  print(\"Number is Prime\")\n",
        "else:\n",
        "  print(\"Number is not prime\")"
      ],
      "metadata": {
        "colab": {
          "base_uri": "https://localhost:8080/"
        },
        "id": "XtgRGaaLeye-",
        "outputId": "e6908b1e-89f3-4db2-fd0b-178eaca717eb"
      },
      "execution_count": 21,
      "outputs": [
        {
          "output_type": "stream",
          "name": "stdout",
          "text": [
            "Enter any value to find whether its prime or not : 12\n",
            "Number is not prime\n"
          ]
        }
      ]
    },
    {
      "cell_type": "markdown",
      "source": [
        "Lab Activity 4"
      ],
      "metadata": {
        "id": "NEWzw34ehn0K"
      }
    },
    {
      "cell_type": "code",
      "source": [
        "#Accept 5 values from user and taking showing its sum\n",
        "sum=0\n",
        "i=0\n",
        "\n",
        "while i<=4:\n",
        "  s=input(\"Enter a number : \")\n",
        "  n=int(s)\n",
        "  sum=sum+n\n",
        "  i=i+1\n",
        "\n",
        "print(\"Sum is \",sum)"
      ],
      "metadata": {
        "colab": {
          "base_uri": "https://localhost:8080/"
        },
        "id": "y7nNSaluhqSN",
        "outputId": "2af295a1-72a1-4817-cc4e-9cfdf30ec217"
      },
      "execution_count": 25,
      "outputs": [
        {
          "output_type": "stream",
          "name": "stdout",
          "text": [
            "Enter a number : 7\n",
            "Enter a number : 7\n",
            "Enter a number : 7\n",
            "Enter a number : 7\n",
            "Enter a number : 7\n",
            "Sum is  35\n"
          ]
        }
      ]
    },
    {
      "cell_type": "markdown",
      "source": [
        "Lab Activity 5"
      ],
      "metadata": {
        "id": "UMoHkXWQjXHQ"
      }
    },
    {
      "cell_type": "code",
      "source": [],
      "metadata": {
        "id": "ht4myu0Cio-J"
      },
      "execution_count": null,
      "outputs": []
    }
  ]
}